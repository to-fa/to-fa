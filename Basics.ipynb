{
 "cells": [
  {
   "cell_type": "markdown",
   "metadata": {},
   "source": [
    "   This project will analyse the submissions to popular technology site **Hacker News**.\n",
    "\n",
    "   Hacker News is a site started by the startup incubator *Y Combinator*, where user-submitted stories (known as \"posts\") receive votes and comments. Hacker News is extremely popular in technology and startup circles, and posts that make it to the top of the Hacker News listings can get hundreds of thousands of visitors as a result.\n",
    "\n",
    "   The database is consist of seven columns. The descriptions are as follows:\n",
    "\n",
    "<li><font color='red'>id</font>: the unique identifier from Hacker News for the post\n",
    "<li><font color='red'>title</font>: the title of the post\n",
    "<li><font color='red'>url</font>: the URL that the posts links to, if the post has a URL\n",
    "<li><font color='red'>num_points</font>: the number of points the post acquired, calculated as the total number of upvotes minus the total number of downvotes\n",
    "<li><font color='red'>num_comments</font>: the number of comments on the post\n",
    "<li><font color='red'>author</font>: the username of the person who submitted the post\n",
    "<li><font color='red'>created_at</font>: the date and time of the post's submission\n",
    "\n",
    "Hacker News titles are organized under two categories <font color='red'>Ask HN</font>, where users submit posts to ask Hacker News community a specific question or <font color='red'>Show HN</font>, to show a project, product, or just something interesting.\n",
    "    \n",
    "For example:\n",
    "    \n",
    "<table>\n",
    "<tr><td>Ask HN: How to improve my personal website?\n",
    "<tr><td>Ask HN: Am I the only one outraged by Twitter shutting down share counts?\n",
    "<tr><td>Ask HN: Aby recent changes to CSS that broke mobile?</td></tr>\n",
    "</table>    \n",
    "\n",
    "Or,\n",
    "\n",
    "<table>\n",
    "<tr><td>Show HN: Wio Link  ESP8266 Based Web of Things Hardware Development Platform' \n",
    "<tr><td>Show HN: Something pointless I made\n",
    "<tr><td>Show HN: Shanhu.io, a programming playground powered by e8vm</td></tr>\n",
    "</table>      \n",
    "        \n",
    "This project will compare these two types of posts to determine the followings:\n",
    "<li> Do <font color ='red'>Ask HN</font> or <font color ='red'>Show HN</font> receive more comments on average?\n",
    "    <li> Do posts created at certain time receive more comments on average?\n",
    "        \n",
    "        \n",
    "                    "
   ]
  },
  {
   "cell_type": "code",
   "execution_count": 2,
   "metadata": {},
   "outputs": [
    {
     "name": "stdout",
     "output_type": "stream",
     "text": [
      "[['12224879', 'Interactive Dynamic Video', 'http://www.interactivedynamicvideo.com/', '386', '52', 'ne0phyte', '8/4/2016 11:52'], ['10975351', 'How to Use Open Source and Shut the Fuck Up at the Same Time', 'http://hueniverse.com/2016/01/26/how-to-use-open-source-and-shut-the-fuck-up-at-the-same-time/', '39', '10', 'josep2', '1/26/2016 19:30'], ['11964716', \"Florida DJs May Face Felony for April Fools' Water Joke\", 'http://www.thewire.com/entertainment/2013/04/florida-djs-april-fools-water-joke/63798/', '2', '1', 'vezycash', '6/23/2016 22:20'], ['11919867', 'Technology ventures: From Idea to Enterprise', 'https://www.amazon.com/Technology-Ventures-Enterprise-Thomas-Byers/dp/0073523429', '3', '1', 'hswarna', '6/17/2016 0:01'], ['10301696', 'Note by Note: The Making of Steinway L1037 (2007)', 'http://www.nytimes.com/2007/11/07/movies/07stein.html?_r=0', '8', '2', 'walterbell', '9/30/2015 4:12']]\n"
     ]
    }
   ],
   "source": [
    "#open the dataset and read it in list format\n",
    "\n",
    "from csv import reader\n",
    "opened_file = open('hacker_news.csv')\n",
    "read_file = reader(opened_file)\n",
    "hn = list(read_file)\n",
    "hn_header = hn[0]\n",
    "hn = hn[1:]\n",
    "\n",
    "#show the data as a list\n",
    "print(hn[:5])\n"
   ]
  },
  {
   "cell_type": "code",
   "execution_count": 3,
   "metadata": {},
   "outputs": [
    {
     "name": "stdout",
     "output_type": "stream",
     "text": [
      "The total number of starting with \"Ask HN\" is: 1744\n",
      "The total number of posts starting with \"Show HN\" is: 1162\n",
      "The total number of other posts is: 17194\n"
     ]
    }
   ],
   "source": [
    "# serapating posts by ask HN, show HN and other posts\n",
    "ask_posts = []\n",
    "show_posts = []\n",
    "other_posts = []\n",
    "for row in hn:\n",
    "    title = row[1]\n",
    "    title = title.lower()\n",
    "    if title.startswith('ask hn'):\n",
    "        ask_posts.append(row)\n",
    "    elif title.startswith('show hn'):\n",
    "        show_posts.append(row)\n",
    "    else:\n",
    "        other_posts.append(row)\n",
    "print('The total number of starting with \"Ask HN\" is:', len(ask_posts))\n",
    "print('The total number of posts starting with \"Show HN\" is:', len(show_posts))\n",
    "print('The total number of other posts is:', len(other_posts))\n"
   ]
  },
  {
   "cell_type": "code",
   "execution_count": 4,
   "metadata": {},
   "outputs": [
    {
     "name": "stdout",
     "output_type": "stream",
     "text": [
      "Average of Ask HN comments is: 14.04\n"
     ]
    }
   ],
   "source": [
    "# finding the average of comment for every type of posts\n",
    "#average of Ask HN posts\n",
    "total_ask_comments = 0\n",
    "for row in ask_posts:\n",
    "    comments = int(row[4])\n",
    "    total_ask_comments += comments\n",
    "# average of Ask HN comments\n",
    "avr_ask_comments = total_ask_comments / len(ask_posts)\n",
    "print('Average of Ask HN comments is:',round(avr_ask_comments,2))\n",
    "    "
   ]
  },
  {
   "cell_type": "code",
   "execution_count": 5,
   "metadata": {},
   "outputs": [
    {
     "name": "stdout",
     "output_type": "stream",
     "text": [
      "Average of Show HN comments is: 10.32\n"
     ]
    }
   ],
   "source": [
    "#average for Show HN posts\n",
    "total_show_comments = 0\n",
    "for row in show_posts:\n",
    "    comm = int(row[4])\n",
    "    total_show_comments += comm\n",
    "# average of Ask HN comments\n",
    "avr_show_comments = total_show_comments / len(show_posts)\n",
    "print('Average of Show HN comments is:',round(avr_show_comments,2))"
   ]
  },
  {
   "cell_type": "markdown",
   "metadata": {},
   "source": [
    "\n",
    "Posts starting with <font color ='red'>'Ask HN'</font> receiving more comments on average (14.04 comments) compare to <font color ='red'>'Show HN'</font> posts where average is 10.32.\n",
    "Therefore, the analysis will be concented only on <font color ='red'>'Ask HN'</font> type of posts. \n",
    "    <li> The datetime modul will be imported to convert and easy manipulate the string class of <font color ='red'>created_at</font> into datetime.\n",
    "    <li> A frequency table will be created to show the total number of comments received in particular hour.\n"
   ]
  },
  {
   "cell_type": "code",
   "execution_count": 10,
   "metadata": {},
   "outputs": [
    {
     "name": "stdout",
     "output_type": "stream",
     "text": [
      "{'09': 45, '13': 85, '10': 59, '14': 107, '16': 108, '23': 68, '12': 73, '17': 100, '15': 116, '21': 109, '20': 80, '02': 58, '18': 109, '03': 54, '05': 46, '19': 110, '01': 60, '22': 71, '08': 48, '04': 47, '00': 55, '06': 44, '07': 34, '11': 58}\n",
      "{'09': 251, '13': 1253, '10': 793, '14': 1416, '16': 1814, '23': 543, '12': 687, '17': 1146, '15': 4477, '21': 1745, '20': 1722, '02': 1381, '18': 1439, '03': 421, '05': 464, '19': 1188, '01': 683, '22': 479, '08': 492, '04': 337, '00': 447, '06': 397, '07': 267, '11': 641}\n"
     ]
    }
   ],
   "source": [
    "#import the datetime modul\n",
    "import datetime as dt\n",
    "\n",
    "#extracting the date/time and comments from the datebase\n",
    "result_list =[]\n",
    "for row in ask_posts:\n",
    "    created_at = row[6]\n",
    "    comments = int(row[4])\n",
    "    result_list.append([created_at,comments])\n",
    "\n",
    "#create a frequency table of number of comments received every hour\n",
    "received_ask_posts_hour = {}\n",
    "comments_by_hour = {}\n",
    "for row in result_list:\n",
    "    date = row[0]\n",
    "    comments = row[1]\n",
    "    date = dt.datetime.strptime(date, \"%m/%d/%Y %H:%M\")\n",
    "    hour = dt.datetime.strftime(date, \"%H\")\n",
    "    if hour not in received_ask_posts_hour:\n",
    "        received_ask_posts_hour[hour] = 1\n",
    "        comments_by_hour[hour] = comments\n",
    "    else:\n",
    "        received_ask_posts_hour[hour] += 1\n",
    "        comments_by_hour[hour] += comments\n",
    "print(received_ask_posts_hour)\n",
    "print(comments_by_hour)"
   ]
  },
  {
   "cell_type": "markdown",
   "metadata": {},
   "source": [
    "\n",
    "The total number of received 'Ask HN' post and the corresponding comments in every hour is obtained. Next step is to calculate the average number of comments for posts in every hour. \n"
   ]
  },
  {
   "cell_type": "code",
   "execution_count": 12,
   "metadata": {
    "scrolled": true
   },
   "outputs": [
    {
     "name": "stdout",
     "output_type": "stream",
     "text": [
      "[['09', 5.58], ['13', 14.74], ['10', 13.44], ['14', 13.23], ['16', 16.8], ['23', 7.99], ['12', 9.41], ['17', 11.46], ['15', 38.59], ['21', 16.01], ['20', 21.52], ['02', 23.81], ['18', 13.2], ['03', 7.8], ['05', 10.09], ['19', 10.8], ['01', 11.38], ['22', 6.75], ['08', 10.25], ['04', 7.17], ['00', 8.13], ['06', 9.02], ['07', 7.85], ['11', 11.05]]\n"
     ]
    }
   ],
   "source": [
    "#creating list with average number of comments received every hour\n",
    "avg_by_hour = []\n",
    "for hour in comments_by_hour:\n",
    "    avg_by_hour.append([hour,round(comments_by_hour[hour]/received_ask_posts_hour[hour],2)])\n",
    "print((avg_by_hour))\n"
   ]
  },
  {
   "cell_type": "code",
   "execution_count": 13,
   "metadata": {},
   "outputs": [
    {
     "name": "stdout",
     "output_type": "stream",
     "text": [
      "[[38.59, '15'], [23.81, '02'], [21.52, '20'], [16.8, '16'], [16.01, '21']]\n"
     ]
    }
   ],
   "source": [
    "# sorted the result in descending order\n",
    "swap_avg_by_hour =[]\n",
    "for row in avg_by_hour:\n",
    "    avg = row[1]\n",
    "    hour = row[0]\n",
    "    swap_avg_by_hour.append([avg,hour])\n",
    "\n",
    "#sort the average by decending order\n",
    "sorted_swap = sorted(swap_avg_by_hour, reverse = True)\n",
    "print(sorted_swap[:5])\n",
    "    \n",
    "    "
   ]
  },
  {
   "cell_type": "code",
   "execution_count": 15,
   "metadata": {},
   "outputs": [
    {
     "name": "stdout",
     "output_type": "stream",
     "text": [
      "15:00 - 38.590000 average comments per post\n",
      "02:00 - 23.810000 average comments per post\n",
      "20:00 - 21.520000 average comments per post\n",
      "16:00 - 16.800000 average comments per post\n",
      "21:00 - 16.010000 average comments per post\n"
     ]
    }
   ],
   "source": [
    "top_5 = sorted_swap[:5]\n",
    "top_5_formated =[]\n",
    "for row in top_5:\n",
    "    #formating the hour\n",
    "    time = row[1]\n",
    "    time = dt.datetime.strptime(time,'%H')\n",
    "    time = dt.datetime.strftime(time,'%H:%M')\n",
    "    top_5_formated.append([row[0],time])\n",
    "    #formating the average\n",
    "for avg, time in top_5_formated:\n",
    "    \n",
    "\n",
    "    output = '{t} - {a:2f} average comments per post'.format(t = time,a = avg)\n",
    "    print(output)\n",
    "    \n"
   ]
  },
  {
   "cell_type": "markdown",
   "metadata": {},
   "source": [
    "Hacker News users comment the most between 15:00 - 17:00 and 20:00 - 22:00 with 55.39 and 37.53 average comment per post, respectively. Considerably high number of comments are received after midnight - 23.81 comment per post.  "
   ]
  },
  {
   "cell_type": "code",
   "execution_count": null,
   "metadata": {},
   "outputs": [],
   "source": []
  }
 ],
 "metadata": {
  "kernelspec": {
   "display_name": "Python 3",
   "language": "python",
   "name": "python3"
  },
  "language_info": {
   "codemirror_mode": {
    "name": "ipython",
    "version": 3
   },
   "file_extension": ".py",
   "mimetype": "text/x-python",
   "name": "python",
   "nbconvert_exporter": "python",
   "pygments_lexer": "ipython3",
   "version": "3.8.2"
  }
 },
 "nbformat": 4,
 "nbformat_minor": 2
}
